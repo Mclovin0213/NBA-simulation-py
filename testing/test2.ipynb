{
 "cells": [
  {
   "cell_type": "code",
   "execution_count": 3,
   "metadata": {},
   "outputs": [
    {
     "name": "stdout",
     "output_type": "stream",
     "text": [
      "0                Delon Wright\n",
      "1               Jalen Johnson\n",
      "2              Sharife Cooper\n",
      "3               Kevin Huerter\n",
      "4                 Skylar Mays\n",
      "5               Kevin Knox II\n",
      "6                Lou Williams\n",
      "7     Timothe Luwawu-Cabarrot\n",
      "8            Danilo Gallinari\n",
      "9                Gorgui Dieng\n",
      "10                 Trae Young\n",
      "11            De'Andre Hunter\n",
      "12          Bogdan Bogdanovic\n",
      "13               Clint Capela\n",
      "14             Onyeka Okongwu\n",
      "15               John Collins\n",
      "16         Chaundee Brown Jr.\n",
      "Name: PLAYER, dtype: object\n"
     ]
    }
   ],
   "source": [
    "from nba_api.stats.endpoints import commonteamroster\n",
    "\n",
    "test3 = commonteamroster.CommonTeamRoster(1610612737)\n",
    "\n",
    "\n",
    "\n",
    "print(test3.common_team_roster.get_data_frame().get('PLAYER'))\n"
   ]
  }
 ],
 "metadata": {
  "interpreter": {
   "hash": "aee8b7b246df8f9039afb4144a1f6fd8d2ca17a180786b69acc140d282b71a49"
  },
  "kernelspec": {
   "display_name": "Python 3.10.4 64-bit",
   "language": "python",
   "name": "python3"
  },
  "language_info": {
   "codemirror_mode": {
    "name": "ipython",
    "version": 3
   },
   "file_extension": ".py",
   "mimetype": "text/x-python",
   "name": "python",
   "nbconvert_exporter": "python",
   "pygments_lexer": "ipython3",
   "version": "3.10.4"
  },
  "orig_nbformat": 4
 },
 "nbformat": 4,
 "nbformat_minor": 2
}
