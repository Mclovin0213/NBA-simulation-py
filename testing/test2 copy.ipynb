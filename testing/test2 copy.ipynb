{
 "cells": [
  {
   "cell_type": "code",
   "execution_count": 3,
   "metadata": {},
   "outputs": [
    {
     "name": "stdout",
     "output_type": "stream",
     "text": [
      "36\n"
     ]
    }
   ],
   "source": [
    "from nba_api.stats.endpoints import playerdashboardbyshootingsplits\n",
    "\n",
    "nba_playerID = 201939\n",
    "filename = 'test.txt'\n",
    "\n",
    "i_player = playerdashboardbyshootingsplits.PlayerDashboardByShootingSplits(nba_playerID)\n",
    "\n",
    "i_player.shot_area_player_dashboard.get_data_frame().get('FG_PCT')\n",
    "\n",
    "print(i_player.shot5_ft_player_dashboard.get_data_frame().get('FGM')[1])"
   ]
  }
 ],
 "metadata": {
  "interpreter": {
   "hash": "aee8b7b246df8f9039afb4144a1f6fd8d2ca17a180786b69acc140d282b71a49"
  },
  "kernelspec": {
   "display_name": "Python 3.10.4 64-bit",
   "language": "python",
   "name": "python3"
  },
  "language_info": {
   "codemirror_mode": {
    "name": "ipython",
    "version": 3
   },
   "file_extension": ".py",
   "mimetype": "text/x-python",
   "name": "python",
   "nbconvert_exporter": "python",
   "pygments_lexer": "ipython3",
   "version": "3.10.4"
  },
  "orig_nbformat": 4
 },
 "nbformat": 4,
 "nbformat_minor": 2
}
