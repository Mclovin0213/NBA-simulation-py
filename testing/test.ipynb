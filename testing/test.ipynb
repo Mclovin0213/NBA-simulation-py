{
 "cells": [
  {
   "cell_type": "code",
   "execution_count": 4,
   "metadata": {},
   "outputs": [
    {
     "data": {
      "text/plain": [
       "0    0.608\n",
       "1    0.489\n",
       "2    0.440\n",
       "3    0.333\n",
       "4    0.297\n",
       "5    0.391\n",
       "6    0.000\n",
       "Name: FG_PCT, dtype: float64"
      ]
     },
     "execution_count": 4,
     "metadata": {},
     "output_type": "execute_result"
    }
   ],
   "source": [
    "import imp\n",
    "from nba_api.stats.endpoints import playerdashboardbyshootingsplits\n",
    "\n",
    "test = playerdashboardbyshootingsplits.PlayerDashboardByShootingSplits(player_id=201939)\n",
    "\n",
    "test.shot_area_player_dashboard.get_data_frame().get('FG_PCT')"
   ]
  }
 ],
 "metadata": {
  "interpreter": {
   "hash": "aee8b7b246df8f9039afb4144a1f6fd8d2ca17a180786b69acc140d282b71a49"
  },
  "kernelspec": {
   "display_name": "Python 3.10.4 64-bit",
   "language": "python",
   "name": "python3"
  },
  "language_info": {
   "codemirror_mode": {
    "name": "ipython",
    "version": 3
   },
   "file_extension": ".py",
   "mimetype": "text/x-python",
   "name": "python",
   "nbconvert_exporter": "python",
   "pygments_lexer": "ipython3",
   "version": "3.10.4"
  },
  "orig_nbformat": 4
 },
 "nbformat": 4,
 "nbformat_minor": 2
}
